{
 "cells": [
  {
   "cell_type": "code",
   "execution_count": 96,
   "metadata": {},
   "outputs": [
    {
     "data": {
      "text/html": [
       "<div>\n",
       "<style scoped>\n",
       "    .dataframe tbody tr th:only-of-type {\n",
       "        vertical-align: middle;\n",
       "    }\n",
       "\n",
       "    .dataframe tbody tr th {\n",
       "        vertical-align: top;\n",
       "    }\n",
       "\n",
       "    .dataframe thead th {\n",
       "        text-align: right;\n",
       "    }\n",
       "</style>\n",
       "<table border=\"1\" class=\"dataframe\">\n",
       "  <thead>\n",
       "    <tr style=\"text-align: right;\">\n",
       "      <th></th>\n",
       "      <th>Time_Hour</th>\n",
       "      <th>Instrument_Code</th>\n",
       "      <th>Open</th>\n",
       "      <th>High</th>\n",
       "      <th>Low</th>\n",
       "      <th>Close</th>\n",
       "      <th>VWAP</th>\n",
       "      <th>TWAP</th>\n",
       "      <th>NumberOfTrades</th>\n",
       "      <th>Volume</th>\n",
       "      <th>Turnover</th>\n",
       "      <th>MinTimeHour</th>\n",
       "      <th>MaxTimeHour</th>\n",
       "      <th>Avg_Bid_Ask_Spread</th>\n",
       "    </tr>\n",
       "  </thead>\n",
       "  <tbody>\n",
       "    <tr>\n",
       "      <th>0</th>\n",
       "      <td>2018-01-04 08:00:00+00:00</td>\n",
       "      <td>ABC</td>\n",
       "      <td>53.545455</td>\n",
       "      <td>54.254545</td>\n",
       "      <td>53.518182</td>\n",
       "      <td>54.209091</td>\n",
       "      <td>53.951161</td>\n",
       "      <td>53.989410</td>\n",
       "      <td>3365</td>\n",
       "      <td>254615.54550</td>\n",
       "      <td>1.663332e+09</td>\n",
       "      <td>2020-01-02 08:00:02.736099+00:00</td>\n",
       "      <td>2020-01-02 08:59:58.820761+00:00</td>\n",
       "      <td>-0.014760</td>\n",
       "    </tr>\n",
       "    <tr>\n",
       "      <th>1</th>\n",
       "      <td>2018-01-04 09:00:00+00:00</td>\n",
       "      <td>ABC</td>\n",
       "      <td>54.209091</td>\n",
       "      <td>54.363636</td>\n",
       "      <td>54.100000</td>\n",
       "      <td>54.290909</td>\n",
       "      <td>54.224500</td>\n",
       "      <td>54.225053</td>\n",
       "      <td>1368</td>\n",
       "      <td>77817.18182</td>\n",
       "      <td>5.105765e+08</td>\n",
       "      <td>2020-01-02 09:00:11.940563+00:00</td>\n",
       "      <td>2020-01-02 09:59:58.746897+00:00</td>\n",
       "      <td>0.013481</td>\n",
       "    </tr>\n",
       "    <tr>\n",
       "      <th>2</th>\n",
       "      <td>2018-01-04 10:00:00+00:00</td>\n",
       "      <td>ABC</td>\n",
       "      <td>54.281818</td>\n",
       "      <td>54.318182</td>\n",
       "      <td>54.218182</td>\n",
       "      <td>54.245455</td>\n",
       "      <td>54.265969</td>\n",
       "      <td>54.266231</td>\n",
       "      <td>909</td>\n",
       "      <td>58191.72727</td>\n",
       "      <td>3.820993e+08</td>\n",
       "      <td>2020-01-02 10:00:03.826511+00:00</td>\n",
       "      <td>2020-01-02 10:59:59.987086+00:00</td>\n",
       "      <td>0.011557</td>\n",
       "    </tr>\n",
       "    <tr>\n",
       "      <th>3</th>\n",
       "      <td>2018-01-04 11:00:00+00:00</td>\n",
       "      <td>ABC</td>\n",
       "      <td>54.245455</td>\n",
       "      <td>54.272727</td>\n",
       "      <td>54.118182</td>\n",
       "      <td>54.136364</td>\n",
       "      <td>54.183729</td>\n",
       "      <td>54.182949</td>\n",
       "      <td>501</td>\n",
       "      <td>34762.09091</td>\n",
       "      <td>2.279050e+08</td>\n",
       "      <td>2020-01-02 11:00:02.479285+00:00</td>\n",
       "      <td>2020-01-02 11:59:48.672869+00:00</td>\n",
       "      <td>0.011537</td>\n",
       "    </tr>\n",
       "    <tr>\n",
       "      <th>4</th>\n",
       "      <td>2018-01-04 12:00:00+00:00</td>\n",
       "      <td>ABC</td>\n",
       "      <td>54.181818</td>\n",
       "      <td>54.204591</td>\n",
       "      <td>54.100000</td>\n",
       "      <td>54.177318</td>\n",
       "      <td>54.158934</td>\n",
       "      <td>54.156843</td>\n",
       "      <td>474</td>\n",
       "      <td>34644.18182</td>\n",
       "      <td>2.270226e+08</td>\n",
       "      <td>2020-01-02 12:02:18.720769+00:00</td>\n",
       "      <td>2020-01-02 12:59:28.065067+00:00</td>\n",
       "      <td>-0.014078</td>\n",
       "    </tr>\n",
       "  </tbody>\n",
       "</table>\n",
       "</div>"
      ],
      "text/plain": [
       "                   Time_Hour Instrument_Code       Open       High        Low  \\\n",
       "0  2018-01-04 08:00:00+00:00             ABC  53.545455  54.254545  53.518182   \n",
       "1  2018-01-04 09:00:00+00:00             ABC  54.209091  54.363636  54.100000   \n",
       "2  2018-01-04 10:00:00+00:00             ABC  54.281818  54.318182  54.218182   \n",
       "3  2018-01-04 11:00:00+00:00             ABC  54.245455  54.272727  54.118182   \n",
       "4  2018-01-04 12:00:00+00:00             ABC  54.181818  54.204591  54.100000   \n",
       "\n",
       "       Close       VWAP       TWAP  NumberOfTrades        Volume  \\\n",
       "0  54.209091  53.951161  53.989410            3365  254615.54550   \n",
       "1  54.290909  54.224500  54.225053            1368   77817.18182   \n",
       "2  54.245455  54.265969  54.266231             909   58191.72727   \n",
       "3  54.136364  54.183729  54.182949             501   34762.09091   \n",
       "4  54.177318  54.158934  54.156843             474   34644.18182   \n",
       "\n",
       "       Turnover                       MinTimeHour  \\\n",
       "0  1.663332e+09  2020-01-02 08:00:02.736099+00:00   \n",
       "1  5.105765e+08  2020-01-02 09:00:11.940563+00:00   \n",
       "2  3.820993e+08  2020-01-02 10:00:03.826511+00:00   \n",
       "3  2.279050e+08  2020-01-02 11:00:02.479285+00:00   \n",
       "4  2.270226e+08  2020-01-02 12:02:18.720769+00:00   \n",
       "\n",
       "                        MaxTimeHour  Avg_Bid_Ask_Spread  \n",
       "0  2020-01-02 08:59:58.820761+00:00           -0.014760  \n",
       "1  2020-01-02 09:59:58.746897+00:00            0.013481  \n",
       "2  2020-01-02 10:59:59.987086+00:00            0.011557  \n",
       "3  2020-01-02 11:59:48.672869+00:00            0.011537  \n",
       "4  2020-01-02 12:59:28.065067+00:00           -0.014078  "
      ]
     },
     "execution_count": 96,
     "metadata": {},
     "output_type": "execute_result"
    }
   ],
   "source": [
    "# importing the relevant libraries for the code to work\n",
    "import pandas as pd\n",
    "import numpy as np\n",
    "from sklearn.model_selection import train_test_split\n",
    "from sklearn.ensemble import RandomForestRegressor\n",
    "from sklearn import metrics\n",
    "\n",
    "# importing the data needed for the model\n",
    "dataset = pd.read_csv('C:\\\\HSBC AM Data Analytics Technical Test\\\\Data\\\\ABC_Level_One_Tick_Data.csv')\n",
    "\n",
    "# inspecting the data in order to know from which columns the necessary extracts need to be made\n",
    "dataset.head()"
   ]
  },
  {
   "cell_type": "code",
   "execution_count": 97,
   "metadata": {},
   "outputs": [],
   "source": [
    "# Working out the Time Horizon by subtracting two time fields - The data type of the resulting number of days needs to be changed to integer\n",
    "Time_Horizon = (pd.to_datetime(dataset['MaxTimeHour']).dt.date) - (pd.to_datetime(dataset['Time_Hour']).dt.date)\n",
    "Time_Horizon = Time_Horizon.dt.days.astype('int16')\n",
    "\n",
    "# All the data needed to train the model is placed in X (Volume and Time Horizon) and the results that needs to be mapped upon is placed in y (Price)\n",
    "X = pd.DataFrame({'Volume': dataset['Volume'], 'Time_Horizon': Time_Horizon}, columns=['Volume','Time_Horizon'])\n",
    "y = dataset['VWAP']\n",
    "\n",
    "# The sample dataset now needs to be divided into a training dataset and a testing dataset\n",
    "X_train, X_test, y_train, y_test = train_test_split(X, y, test_size=0.2, random_state=0)"
   ]
  },
  {
   "cell_type": "code",
   "execution_count": 98,
   "metadata": {},
   "outputs": [],
   "source": [
    "# The sample data now needs to go through our random forest algorithm to solve the regression problem - at this point, the algorithm will be tried for a number of estimators (random forest trees). For this model, we will train the algorithm for a range of trees between 2 and 100.\n",
    "regressor = RandomForestRegressor(n_estimators=100, random_state=0)\n",
    "regressor.fit(X_train, y_train)\n",
    "y_pred = regressor.predict(X_test)"
   ]
  },
  {
   "cell_type": "code",
   "execution_count": 99,
   "metadata": {},
   "outputs": [
    {
     "name": "stdout",
     "output_type": "stream",
     "text": [
      "Mean Absolute Error: 5.724429823563292\n",
      "Mean Squared Error: 53.53996176484672\n",
      "Root Mean Squared Error: 7.317100639245488\n"
     ]
    }
   ],
   "source": [
    "# Once the data has been trained, we can then have a look at the root mean squared error. The aim of the training is to modify the number of estimators (Trees) until the Root Mean Squared Error is minimised. This is shown by the graph in the next section.\n",
    "print('Mean Absolute Error:', metrics.mean_absolute_error(y_test, y_pred))\n",
    "print('Mean Squared Error:', metrics.mean_squared_error(y_test, y_pred))\n",
    "print('Root Mean Squared Error:', np.sqrt(metrics.mean_squared_error(y_test, y_pred)))"
   ]
  },
  {
   "cell_type": "code",
   "execution_count": 100,
   "metadata": {},
   "outputs": [
    {
     "data": {
      "text/plain": [
       "Text(0, 0.5, 'Root Mean Squared Error')"
      ]
     },
     "execution_count": 100,
     "metadata": {},
     "output_type": "execute_result"
    },
    {
     "data": {
      "image/png": "[encoded data removed]",
      "text/plain": [
       "<Figure size 432x288 with 1 Axes>"
      ]
     },
     "metadata": {
      "needs_background": "light"
     },
     "output_type": "display_data"
    }
   ],
   "source": [
    "# It can be seen that the root mean squared error does decrease with an increased number of estimators and reaches a low with around 40 estimators. Hence, the number of estimators to be used is 40, since the benefit of increasing the amount significantly does not provide a significant decrease in the root mean squared error value.\n",
    "import matplotlib.pyplot as py\n",
    "py.plot([2, 4, 6, 8, 10, 20, 30, 40, 50, 60, 70, 80, 90, 100], [8.164924378, 7.745456001, 7.660487347, 7.584890717, 7.561141168, 7.472894223, 7.367184213, 7.340381671, 7.356625168, 7.390222732, 7.368887326, 7.342337919, 7.317433793, 7.317100639], 'go--', linewidth=2, markersize=10)\n",
    "py.xlabel('Number of Estimators')\n",
    "py.ylabel('Root Mean Squared Error')"
   ]
  },
  {
   "cell_type": "code",
   "execution_count": null,
   "metadata": {},
   "outputs": [],
   "source": []
  }
 ],
 "metadata": {
  "kernelspec": {
   "display_name": "Python 3",
   "language": "python",
   "name": "python3"
  },
  "language_info": {
   "codemirror_mode": {
    "name": "ipython",
    "version": 3
   },
   "file_extension": ".py",
   "mimetype": "text/x-python",
   "name": "python",
   "nbconvert_exporter": "python",
   "pygments_lexer": "ipython3",
   "version": "3.8.5"
  }
 },
 "nbformat": 4,
 "nbformat_minor": 4
}
